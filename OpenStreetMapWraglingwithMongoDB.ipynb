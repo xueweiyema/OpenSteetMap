{
 "cells": [
  {
   "cell_type": "markdown",
   "metadata": {},
   "source": [
    "# OpenStreetMap Sample Project Data Wrangling with MongoDB"
   ]
  },
  {
   "cell_type": "markdown",
   "metadata": {},
   "source": [
    "https://www.openstreetmap.org/relation/5750005  \n",
    "https://mapzen.com/data/metro-extracts/metro/sydney_australia/"
   ]
  },
  {
   "cell_type": "markdown",
   "metadata": {},
   "source": [
    "1. 在地图中遇到的问题\n",
    "2. 数据概述\n",
    "3. 关于数据集的其他想法"
   ]
  },
  {
   "cell_type": "markdown",
   "metadata": {},
   "source": [
    "## 开始导入必要的库指定好文件和需要的正则表达式"
   ]
  },
  {
   "cell_type": "code",
   "execution_count": 1,
   "metadata": {
    "collapsed": true
   },
   "outputs": [],
   "source": [
    "import xml.etree.ElementTree as ET  # Use cElementTree or lxml if too slow\n",
    "import pprint\n",
    "import re\n",
    "from collections import defaultdict\n",
    "import codecs\n",
    "import json\n",
    "\n",
    "OSM_FILE = \"sydney_australia.osm\"  # Replace this with your osm file\n",
    "SAMPLE_FILE = \"sample.osm\"\n",
    "\n",
    "lower = re.compile(r'^([a-z]|_)*$')\n",
    "lower_colon = re.compile(r'^([a-z]|_)*:([a-z]|_)*$')\n",
    "problemchars = re.compile(r'[=\\+/&<>;\\'\"\\?%#$@\\,\\. \\t\\r\\n]')"
   ]
  },
  {
   "cell_type": "markdown",
   "metadata": {},
   "source": [
    "## 生成sample.osm"
   ]
  },
  {
   "cell_type": "code",
   "execution_count": 21,
   "metadata": {
    "collapsed": true
   },
   "outputs": [],
   "source": [
    "k = 50 # Parameter: take every k-th top level element\n",
    "\n",
    "def get_element(osm_file, tags=('node', 'way', 'relation')):\n",
    "    \"\"\"Yield element if it is the right type of tag\n",
    "\n",
    "    Reference:\n",
    "    http://stackoverflow.com/questions/3095434/inserting-newlines-in-xml-file-generated-via-xml-etree-elementtree-in-python\n",
    "    \"\"\"\n",
    "    context = iter(ET.iterparse(osm_file, events=('start', 'end')))\n",
    "    _, root = next(context)\n",
    "    for event, elem in context:\n",
    "        if event == 'end' and elem.tag in tags:\n",
    "            yield elem\n",
    "            root.clear()\n",
    "\n",
    "\n",
    "with open(SAMPLE_FILE, 'wb') as output:\n",
    "    output.write('<?xml version=\"1.0\" encoding=\"UTF-8\"?>\\n')\n",
    "    output.write('<osm>\\n  ')\n",
    "\n",
    "    # Write every kth top level element\n",
    "    for i, element in enumerate(get_element(OSM_FILE)):\n",
    "        if i % k == 0:\n",
    "            output.write(ET.tostring(element, encoding='utf-8'))\n",
    "\n",
    "    output.write('</osm>')"
   ]
  },
  {
   "cell_type": "markdown",
   "metadata": {},
   "source": [
    "## 找出所有的tag并统计各个tag的数量"
   ]
  },
  {
   "cell_type": "code",
   "execution_count": 2,
   "metadata": {},
   "outputs": [
    {
     "name": "stdout",
     "output_type": "stream",
     "text": [
      "{'member': 906,\n",
      " 'nd': 35494,\n",
      " 'node': 29528,\n",
      " 'osm': 1,\n",
      " 'relation': 107,\n",
      " 'tag': 16957,\n",
      " 'way': 4054}\n"
     ]
    }
   ],
   "source": [
    "def count_tags(filename):\n",
    "    tags={}\n",
    "    for event,elem in ET.iterparse(filename):\n",
    "        if tags.has_key(elem.tag):\n",
    "            tags[elem.tag]+=1\n",
    "        else:\n",
    "            tags[elem.tag]=1\n",
    "    return tags\n",
    "\n",
    "\n",
    "tags = count_tags(SAMPLE_FILE)\n",
    "pprint.pprint(tags)"
   ]
  },
  {
   "cell_type": "markdown",
   "metadata": {},
   "source": [
    "## 找出各种tag的类型"
   ]
  },
  {
   "cell_type": "code",
   "execution_count": 3,
   "metadata": {},
   "outputs": [
    {
     "name": "stdout",
     "output_type": "stream",
     "text": [
      "{'lower': 14685, 'lower_colon': 2097, 'other': 175, 'problemchars': 0}\n"
     ]
    }
   ],
   "source": [
    "def key_type(element, keys):\n",
    "    if element.tag == \"tag\":\n",
    "        for tag in element.iter('tag'):\n",
    "            if lower.search(element.attrib['k']):\n",
    "                keys['lower']+=1\n",
    "            elif lower_colon.search(element.attrib['k']):\n",
    "                keys['lower_colon']+=1\n",
    "            elif problemchars.search(element.attrib['k']):\n",
    "                keys['problemchars']+=1\n",
    "            else:\n",
    "                keys['other']+=1\n",
    "    return keys\n",
    "\n",
    "def process_map(filename):\n",
    "    keys = {\"lower\": 0, \"lower_colon\": 0, \"problemchars\": 0, \"other\": 0}\n",
    "    for _, element in ET.iterparse(filename):\n",
    "        keys = key_type(element, keys)\n",
    "    return keys\n",
    "\n",
    "\n",
    "keys = process_map(SAMPLE_FILE)\n",
    "pprint.pprint(keys)"
   ]
  },
  {
   "cell_type": "markdown",
   "metadata": {},
   "source": [
    "## 找出提供数据的用户id"
   ]
  },
  {
   "cell_type": "code",
   "execution_count": 4,
   "metadata": {},
   "outputs": [
    {
     "name": "stdout",
     "output_type": "stream",
     "text": [
      "906\n"
     ]
    }
   ],
   "source": [
    "def process_map_users(filename):\n",
    "    users = set()\n",
    "    for _, element in ET.iterparse(filename):\n",
    "        if element.get('uid')<>None:\n",
    "            users.add(element.get('uid'))\n",
    "    return users\n",
    "\n",
    "users = process_map_users(SAMPLE_FILE)\n",
    "print len(users)\n",
    "# pprint.pprint(users)"
   ]
  },
  {
   "cell_type": "markdown",
   "metadata": {},
   "source": [
    "## 修正街道简写"
   ]
  },
  {
   "cell_type": "code",
   "execution_count": 6,
   "metadata": {},
   "outputs": [],
   "source": [
    "street_type_re = re.compile(r'\\b\\S+\\.?$', re.IGNORECASE)\n",
    "\n",
    "expected = [\n",
    "    \"Street\", \"Avenue\", \"Boulevard\", \"Drive\", \"Court\", \"Place\", \"Square\",\n",
    "    \"Lane\", \"Road\", \"Trail\", \"Parkway\", \"Commons\"\n",
    "]\n",
    "\n",
    "# UPDATE THIS VARIABLE\n",
    "mapping = {\"Rd\":\"Road\"}\n",
    "\n",
    "\n",
    "def audit_street_type(street_types, street_name):\n",
    "    m = street_type_re.search(street_name)\n",
    "    if m:\n",
    "        street_type = m.group()\n",
    "        if street_type not in expected:\n",
    "            street_types[street_type].add(street_name)\n",
    "\n",
    "\n",
    "def is_street_name(elem):\n",
    "    return (elem.attrib['k'] == \"addr:street\")\n",
    "\n",
    "\n",
    "def audit(osmfile):\n",
    "    osm_file = open(osmfile, \"r\")\n",
    "    street_types = defaultdict(set)\n",
    "    for event, elem in ET.iterparse(osm_file, events=(\"start\", )):\n",
    "\n",
    "        if elem.tag == \"node\" or elem.tag == \"way\":\n",
    "            for tag in elem.iter(\"tag\"):\n",
    "                if is_street_name(tag):\n",
    "                    audit_street_type(street_types, tag.attrib['v'])\n",
    "    osm_file.close()\n",
    "    return street_types\n",
    "\n",
    "\n",
    "def update_name(name, mapping):\n",
    "\n",
    "    # YOUR CODE HERE\n",
    "    l = name.split(' ')\n",
    "    if mapping.has_key(l[-1]):\n",
    "        l[-1] = mapping[l[-1]]\n",
    "        name = \" \".join(l)\n",
    "    return name\n",
    "\n",
    "\n",
    "st_types = audit(SAMPLE_FILE)\n",
    "# pprint.pprint(dict(st_types))\n",
    "for st_type, ways in st_types.iteritems():\n",
    "    for name in ways:\n",
    "        better_name = update_name(name, mapping)"
   ]
  },
  {
   "cell_type": "markdown",
   "metadata": {},
   "source": [
    "## 重新构建数据格式并生成json格式数据"
   ]
  },
  {
   "cell_type": "code",
   "execution_count": 7,
   "metadata": {},
   "outputs": [
    {
     "name": "stdout",
     "output_type": "stream",
     "text": [
      "{'created': {'changeset': '4228056',\n",
      "             'timestamp': '2010-03-25T10:25:53Z',\n",
      "             'uid': '20949',\n",
      "             'user': 'Ebenezer',\n",
      "             'version': '3'},\n",
      " 'id': '324883',\n",
      " 'pos': [-33.9176762, 151.1888395],\n",
      " 'type': 'node'}\n",
      "{'building': 'industrial',\n",
      " 'created': {'changeset': '54044925',\n",
      "             'timestamp': '2017-11-24T09:30:04Z',\n",
      "             'uid': '1723158',\n",
      "             'user': 'ozhiker2',\n",
      "             'version': '1'},\n",
      " 'id': '542553645',\n",
      " 'node_refs': ['5245410301',\n",
      "               '5245410300',\n",
      "               '5245410299',\n",
      "               '5245410298',\n",
      "               '5245410297',\n",
      "               '5245410296',\n",
      "               '5245410301'],\n",
      " 'pos': [],\n",
      " 'ref': '5245410301',\n",
      " 'type': 'way',\n",
      " 'v': 'industrial'}\n"
     ]
    }
   ],
   "source": [
    "CREATED = [ \"version\", \"changeset\", \"timestamp\", \"user\", \"uid\"]\n",
    "\n",
    "\n",
    "def shape_element(element):\n",
    "    node = {}\n",
    "    if element.tag == \"node\" or element.tag == \"way\" :\n",
    "        #build type\n",
    "        node['type'] = element.tag\n",
    "        #build created\n",
    "        created = {}\n",
    "        pos = []\n",
    "        address = {}\n",
    "        node_refs = []\n",
    "        for elem in element.iter():\n",
    "            for k in elem.attrib.keys():\n",
    "                if k in CREATED:\n",
    "                    created[k] = elem.get(k)\n",
    "                #buid pos\n",
    "                elif k == 'lat':\n",
    "                    pos.append(float(elem.get(k)))\n",
    "                elif k == 'lon':\n",
    "                    pos.append(float(elem.get(k)))\n",
    "                #skip problem\n",
    "                elif problemchars.search(k):\n",
    "                    continue\n",
    "                #build address\n",
    "                elif k == 'k':\n",
    "                    l = elem.get(k).split(':')\n",
    "                    if l[0] == 'addr':\n",
    "                        if len(l) < 3:\n",
    "                            address[l[1]] =update_name(elem.get('v'),mapping)\n",
    "                #build with colon like  or k=\"xx:xxx\" v=\"xxxx\"\n",
    "                    if len(l) > 1:\n",
    "                        d = {}\n",
    "                        len(l)\n",
    "                        d[l[1]] = elem.get('v')\n",
    "                        node[l[0]] = d\n",
    "                    if len(l) == 1:\n",
    "                        node[l[0]] = elem.get('v')\n",
    "                else:\n",
    "                    node[k] = elem.get(k)\n",
    "                #build node_refs\n",
    "                if element.tag == 'way' and elem.tag == \"nd\":\n",
    "                    node_refs.append(elem.get('ref'))\n",
    "        node['created'] = created\n",
    "        pos.reverse()\n",
    "        node['pos'] = pos\n",
    "        if address <> {}:\n",
    "            node['address'] = address\n",
    "        if node_refs <> []:\n",
    "            node['node_refs'] = node_refs\n",
    "        return node\n",
    "    else:\n",
    "        return None\n",
    "\n",
    "\n",
    "def process_map_data(file_in, pretty = False):\n",
    "    # You do not need to change this file\n",
    "    file_out = \"{0}.json\".format(file_in)\n",
    "    data = []\n",
    "    with codecs.open(file_out, \"w\") as fo:\n",
    "        for _, element in ET.iterparse(file_in):\n",
    "            el = shape_element(element)\n",
    "            if el:\n",
    "                data.append(el)\n",
    "                if pretty:\n",
    "                    fo.write(json.dumps(el, indent=2)+\"\\n\")\n",
    "                else:\n",
    "                    fo.write(json.dumps(el) + \"\\n\")\n",
    "    return data\n",
    "\n",
    "data=process_map_data(SAMPLE_FILE,True)\n",
    "pprint.pprint(data[0])\n",
    "pprint.pprint(data[-1])"
   ]
  },
  {
   "cell_type": "markdown",
   "metadata": {},
   "source": [
    "## 将生成的json导入mongodb"
   ]
  },
  {
   "cell_type": "markdown",
   "metadata": {},
   "source": [
    "mongoimport --db OpenStreetMap --collection Sydney --file sample.osm.json"
   ]
  },
  {
   "cell_type": "markdown",
   "metadata": {},
   "source": [
    "## 问题1. 在地图中遇到的问题"
   ]
  },
  {
   "cell_type": "markdown",
   "metadata": {},
   "source": [
    "**回答:**  \n",
    "Sydney的数据还算比较规范或者说数据种类比较少,没有遇到特别难处理的问题,只有部分的Rd简写,也通过完善道路名称解决.在整理记录的时候最大的麻烦是处理数组类型字段的聚合问题其实也就是mongodb用的还不是很熟练,通过查StackOverflow,浏览官方的doc花了1个多小时才解决了预期的问题,其实每一个统计结果都会有大于1种的解决方式,熟练以后,选择自己习惯的思路一样可以解决问题."
   ]
  },
  {
   "cell_type": "markdown",
   "metadata": {},
   "source": [
    "## 问题2. 数据概述"
   ]
  },
  {
   "cell_type": "markdown",
   "metadata": {},
   "source": [
    "**回答:**   \n",
    "1. 文件大小:原文件sydney_australia.osm 317MB 样本sample.osm 6.39MB\n",
    "2. 样本数量:  \n",
    "db.getCollection('Sydney').find({}).count()  \n",
    "33582\n",
    "3. 样本中nodes的数量:  \n",
    "db.getCollection('Sydney').find({\"type\":\"node\"}).count() \n",
    "29524\n",
    "4. 样本中ways的数量:  \n",
    "db.getCollection('Sydney').find({\"type\":\"way\"}).count() \n",
    "4054\n",
    "5. 提供数据用户数:  \n",
    "db.getCollection('Sydney').distinct(\"created.uid\").length \n",
    "903\n",
    "6. 贡献最大的用户:  \n",
    "db.getCollection('Sydney').aggregate([{\"\\$group\":{\"_id\":\"\\$created.user\", \"count\":{\"\\$sum\":1}}},{\"\\$sort\":{\"count\":-1}}, {\"\\$limit\":1}])\n",
    "_id:balcoath count: 2346  \n",
    "7. 只贡献过一次的用户数:  \n",
    "db.getCollection('Sydney').aggregate([{\"\\$group\":{\"_id\":\"\\$created.user\", \"count\":{\"\\$sum\":1}}},{\"\\$group\":{\"_id\":\"\\$count\", \"num_users\":{\"\\$sum\":1}}},{\"\\$sort\":{\"count\":1}},{\"\\$limit\":1}])  \n",
    "157\n",
    "8. 最大纬度:  \n",
    "db.getCollection('Sydney').aggregate([{\\$project: {\"first_value\":{\\$arrayElemAt: [ \"\\$pos\", 0]}}},{\\$group: {_id: 'lat', value: {\\$max: '\\$first_value'}}}])  \n",
    "-33.6370504\n",
    "9. 最小纬度:  \n",
    "db.getCollection('Sydney').aggregate([{\\$project: {\"first_value\":{\\$arrayElemAt: [ \"\\$pos\", 0]}}},{\\$group: {_id: 'lat', value: {\\$min: '\\$first_value'}}}])    \n",
    "-34.1889184\n",
    "10. 最大经度:  \n",
    "db.getCollection('Sydney').aggregate([{\\$project: {\"first_value\":{\\$arrayElemAt: [ \"\\$pos\", 1]}}},{\\$group: {_id: 'lon', value: {\\$max: '\\$first_value'}}}])  \n",
    "151.3311205\n",
    "11. 最小经度:  \n",
    "db.getCollection('Sydney').aggregate([{\\$project: {\"first_value\":{\\$arrayElemAt: [ \"\\$pos\", 1]}}},{\\$group: {_id: 'lon', value: {\\$min: '\\$first_value'}}}])  \n",
    "150.628001\n",
    "12. 多少种设施:  \n",
    " db.getCollection('Sydney').aggregate([{\"\\$match\":{\"amenity\":{\"\\$exists\":1}}},{\"\\$group\":{\"_id\":\"\\$amenity\",\"count\":{\"\\$sum\":1}}},{\"\\$sort\":{\"count\":-1}}])  \n",
    " 有50种,其中前十的是(1) parking 77(2) bench 30(3) school 27(4) restaurant 27(5) toilets 21(6) cafe 19(7) drinking_water 14(8) fast_food 13(9) bicycle_parking 13(10) place_of_worship 11"
   ]
  },
  {
   "cell_type": "markdown",
   "metadata": {},
   "source": [
    "## 问题3. 关于数据集的其他想法"
   ]
  },
  {
   "cell_type": "markdown",
   "metadata": {},
   "source": [
    "**回答:**   \n",
    "选择Sydney作为数据源的主要原因是我明年初打算去Austrila旅游,但是从sample.osm该数据包含的内容还是比较简单的,主要是绘制了地理上的一些信息,对于我即将出发去悉尼来说还需要很多相关的信息,比如说交通具体包括了地铁站,地铁路线,公交车站和公交车路线,有餐馆的信息,但是我需要可以量化顾客的反馈,还有平均的用餐价格,酒店的价格和好评度,有停车位最好还有平均的停车价格,还有各个地区的特点,比如地区收入水平,人口密度,街道的安全指数,交通的拥堵程度,还有地理设施的旅游观光指数,甚至有动态的信息,比如交通拥堵情况,房价情况,自然气候情况等等."
   ]
  },
  {
   "cell_type": "code",
   "execution_count": null,
   "metadata": {
    "collapsed": true
   },
   "outputs": [],
   "source": []
  }
 ],
 "metadata": {
  "kernelspec": {
   "display_name": "Python 2",
   "language": "python",
   "name": "python2"
  },
  "language_info": {
   "codemirror_mode": {
    "name": "ipython",
    "version": 2
   },
   "file_extension": ".py",
   "mimetype": "text/x-python",
   "name": "python",
   "nbconvert_exporter": "python",
   "pygments_lexer": "ipython2",
   "version": "2.7.13"
  }
 },
 "nbformat": 4,
 "nbformat_minor": 2
}
